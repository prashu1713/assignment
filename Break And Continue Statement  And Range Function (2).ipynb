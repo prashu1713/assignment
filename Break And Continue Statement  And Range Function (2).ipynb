{
 "cells": [
  {
   "cell_type": "markdown",
   "id": "b1cfcbe0-1160-4618-9d7b-622702c3bef4",
   "metadata": {},
   "source": [
    "Write a program to print numbers from 1 to 10, but stop if the number is 5."
   ]
  },
  {
   "cell_type": "code",
   "execution_count": 11,
   "id": "14920264-ebce-44c5-8eef-0cf341dc9910",
   "metadata": {},
   "outputs": [
    {
     "name": "stdout",
     "output_type": "stream",
     "text": [
      "0\n",
      "1\n",
      "2\n",
      "3\n",
      "4\n",
      "5\n",
      "6\n",
      "7\n",
      "8\n"
     ]
    }
   ],
   "source": [
    "for i in range(10):\n",
    "    \n",
    "    print(i)\n",
    "    if i == 8:\n",
    "        break"
   ]
  },
  {
   "cell_type": "markdown",
   "id": "1546b718-b7f2-40c1-bca3-b160ca2a4caf",
   "metadata": {},
   "source": [
    "Write a program to iterate through a list and stop when encountering a specific element."
   ]
  },
  {
   "cell_type": "code",
   "execution_count": 13,
   "id": "8390b44d-55b6-4696-935f-06725cad63a3",
   "metadata": {},
   "outputs": [
    {
     "name": "stdout",
     "output_type": "stream",
     "text": [
      "[3, 5, 7, 9.5, 7, 1]\n"
     ]
    }
   ],
   "source": [
    "def stop_at_four(lst):\n",
    "    n = 0\n",
    "    new_lst = []\n",
    "    if len(lst) == 0:\n",
    "        return new_lst\n",
    "    else:\n",
    "        while lst[n] != 4 and n < len(lst):\n",
    "            new_lst.append(lst[n])\n",
    "            n += 1\n",
    "        return new_lst\n",
    "lst = [3, 5, 7, 9.5, 7, 1, 4]\n",
    "print(stop_at_four(lst))"
   ]
  },
  {
   "cell_type": "markdown",
   "id": "30f95255-8abf-4385-944e-b3f5c17356d5",
   "metadata": {},
   "source": [
    "Write a program to skip printing even numbers from 1 to 10."
   ]
  },
  {
   "cell_type": "code",
   "execution_count": 2,
   "id": "59123964-0944-4700-bbb1-f5771b32f69b",
   "metadata": {},
   "outputs": [
    {
     "name": "stdout",
     "output_type": "stream",
     "text": [
      "1\n",
      "3\n",
      "5\n",
      "7\n",
      "9\n"
     ]
    }
   ],
   "source": [
    "for i in range(10):\n",
    "    if i % 2 == 0:\n",
    "        continue\n",
    "    print(i)"
   ]
  },
  {
   "cell_type": "markdown",
   "id": "4de418fd-ec54-4c98-8900-fa6f533d0549",
   "metadata": {},
   "source": [
    "Write a program to print multiplication tables 1 from  to 5, but stop after the first table is printed for each number."
   ]
  },
  {
   "cell_type": "code",
   "execution_count": 4,
   "id": "a52efec7-3d81-4e24-8fef-519f1faaec94",
   "metadata": {},
   "outputs": [
    {
     "name": "stdout",
     "output_type": "stream",
     "text": [
      "Multiplication table for 1:\n",
      "1 x 1 = 1\n",
      "\n",
      "Multiplication table for 2:\n",
      "2 x 1 = 2\n",
      "\n",
      "Multiplication table for 3:\n",
      "3 x 1 = 3\n",
      "\n",
      "Multiplication table for 4:\n",
      "4 x 1 = 4\n",
      "\n",
      "Multiplication table for 5:\n",
      "5 x 1 = 5\n",
      "\n"
     ]
    }
   ],
   "source": [
    "for num in range(1, 6):\n",
    "    print(f\"Multiplication table for {num}:\")\n",
    "    for i in range(1, 11):\n",
    "        print(f\"{num} x {i} = {num * i}\")\n",
    "        if i == 1:\n",
    "            break\n",
    "    print() "
   ]
  },
  {
   "cell_type": "markdown",
   "id": "174ea201-39d0-403c-a62a-96f498e9bceb",
   "metadata": {},
   "source": [
    "Write a program to skip printing even numbers using a while loop."
   ]
  },
  {
   "cell_type": "code",
   "execution_count": null,
   "id": "8cef59a6-8e92-45d0-abe8-2c3fd0cd2ed0",
   "metadata": {},
   "outputs": [],
   "source": [
    "i = 2\n",
    "while i < 100:\n",
    "    print(i)\n",
    "    "
   ]
  }
 ],
 "metadata": {
  "kernelspec": {
   "display_name": "Python 3 (ipykernel)",
   "language": "python",
   "name": "python3"
  },
  "language_info": {
   "codemirror_mode": {
    "name": "ipython",
    "version": 3
   },
   "file_extension": ".py",
   "mimetype": "text/x-python",
   "name": "python",
   "nbconvert_exporter": "python",
   "pygments_lexer": "ipython3",
   "version": "3.10.8"
  }
 },
 "nbformat": 4,
 "nbformat_minor": 5
}
